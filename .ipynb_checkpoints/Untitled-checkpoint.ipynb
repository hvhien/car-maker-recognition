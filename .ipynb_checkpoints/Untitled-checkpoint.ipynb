{
 "cells": [
  {
   "cell_type": "code",
   "execution_count": 1,
   "metadata": {},
   "outputs": [],
   "source": [
    "from tensorflow.keras.models import load_model,Model"
   ]
  },
  {
   "cell_type": "code",
   "execution_count": 2,
   "metadata": {},
   "outputs": [],
   "source": [
    "model=load_model(\"car.h5\")"
   ]
  },
  {
   "cell_type": "code",
   "execution_count": 3,
   "metadata": {},
   "outputs": [],
   "source": [
    "import numpy as np\n",
    "from PIL import Image"
   ]
  },
  {
   "cell_type": "code",
   "execution_count": 5,
   "metadata": {},
   "outputs": [],
   "source": [
    "def imageProcessing(img):\n",
    "    img=Image.open(img)\n",
    "    img=img.resize(size=(256,256))\n",
    "    img=np.asarray(img)\n",
    "    img=img/255.\n",
    "    img=np.expand_dims(img,0)\n",
    "    return img"
   ]
  },
  {
   "cell_type": "code",
   "execution_count": 6,
   "metadata": {},
   "outputs": [],
   "source": [
    "img=imageProcessing(\"test.jpg\")"
   ]
  },
  {
   "cell_type": "code",
   "execution_count": 7,
   "metadata": {},
   "outputs": [],
   "source": [
    "pred=model.predict(img)"
   ]
  },
  {
   "cell_type": "code",
   "execution_count": 38,
   "metadata": {},
   "outputs": [
    {
     "ename": "IndexError",
     "evalue": "index 1 is out of bounds for axis 0 with size 1",
     "output_type": "error",
     "traceback": [
      "\u001b[1;31m---------------------------------------------------------------------------\u001b[0m",
      "\u001b[1;31mIndexError\u001b[0m                                Traceback (most recent call last)",
      "\u001b[1;32m<ipython-input-38-e3bfe5760263>\u001b[0m in \u001b[0;36m<module>\u001b[1;34m\u001b[0m\n\u001b[1;32m----> 1\u001b[1;33m \u001b[0mpred\u001b[0m\u001b[1;33m[\u001b[0m\u001b[1;36m1\u001b[0m\u001b[1;33m]\u001b[0m\u001b[1;33m[\u001b[0m\u001b[1;36m0\u001b[0m\u001b[1;33m]\u001b[0m\u001b[1;33m\u001b[0m\u001b[1;33m\u001b[0m\u001b[0m\n\u001b[0m",
      "\u001b[1;31mIndexError\u001b[0m: index 1 is out of bounds for axis 0 with size 1"
     ]
    }
   ],
   "source": [
    "pred[1][0]"
   ]
  },
  {
   "cell_type": "code",
   "execution_count": 46,
   "metadata": {},
   "outputs": [],
   "source": [
    "pred=pred*100"
   ]
  },
  {
   "cell_type": "code",
   "execution_count": 47,
   "metadata": {},
   "outputs": [
    {
     "name": "stdout",
     "output_type": "stream",
     "text": [
      "\tAM ==> 0.001404\n",
      "\tAcura ==> 0.000288\n",
      "\tAston ==> 0.018638\n",
      "\tAudi ==> 0.269070\n",
      "\tBMW ==> 11.148095\n",
      "\tBentley ==> 0.064990\n",
      "\tBugatti ==> 0.024119\n",
      "\tBuick ==> 0.004276\n",
      "\tCadillac ==> 0.010471\n",
      "\tChevrolet ==> 1.170462\n",
      "\tChrysler ==> 0.312388\n",
      "\tDaewoo ==> 0.002547\n",
      "\tDodge ==> 7.984143\n",
      "\tEagle ==> 0.000828\n",
      "\tFIAT ==> 0.000587\n",
      "\tFerrari ==> 0.013894\n",
      "\tFisker ==> 0.000290\n",
      "\tFord ==> 0.001429\n",
      "\tGMC ==> 0.013435\n",
      "\tGeo ==> 0.007643\n",
      "\tHUMMER ==> 0.000829\n",
      "\tHonda ==> 0.000104\n",
      "\tHyundai ==> 0.107953\n",
      "\tInfiniti ==> 0.000736\n",
      "\tIsuzu ==> 0.006430\n",
      "\tJaguar ==> 0.005692\n",
      "\tJeep ==> 0.003814\n",
      "\tLamborghini ==> 0.650948\n",
      "\tLand ==> 0.044522\n",
      "\tLincoln ==> 0.000138\n",
      "\tMINI ==> 0.000006\n",
      "\tMaybach ==> 0.000327\n",
      "\tMazda ==> 0.000063\n",
      "\tMcLaren ==> 0.000878\n",
      "\tMercedes-Benz ==> 0.002437\n",
      "\tMitsubishi ==> 0.000607\n",
      "\tNissan ==> 0.004133\n",
      "\tPlymouth ==> 0.000025\n",
      "\tPorsche ==> 0.000431\n",
      "\tRam ==> 0.001402\n",
      "\tRolls-Royce ==> 2.450940\n",
      "\tScion ==> 0.000116\n",
      "\tSpyker ==> 0.115591\n",
      "\tSuzuki ==> 0.000825\n",
      "\tTesla ==> 0.000345\n",
      "\tToyota ==> 0.055066\n",
      "\tVolkswagen ==> 0.002596\n",
      "\tVolvo ==> 0.014383\n",
      "\tsmart ==> 0.000617\n"
     ]
    }
   ],
   "source": [
    "t=0\n",
    "re={}\n",
    "for i in label_map:\n",
    "    \n",
    "    print(\"\\t%s ==> %f\" % (i, pred[0][t]))\n",
    "    re[i]=pred[0][t]\n",
    "    t=t+1"
   ]
  },
  {
   "cell_type": "code",
   "execution_count": 25,
   "metadata": {},
   "outputs": [],
   "source": [
    "label_map={'AM': 0,'Acura': 1,'Aston': 2,'Audi': 3,'BMW': 4,'Bentley': 5,'Bugatti': 6,'Buick': 7,'Cadillac': 8,'Chevrolet': 9,'Chrysler': 10,\n",
    "           'Daewoo': 11,'Dodge': 12,'Eagle': 13,'FIAT': 14,'Ferrari': 15,'Fisker': 16,'Ford': 17,'GMC': 18,'Geo': 19,'HUMMER': 20,'Honda': 21,\n",
    "           'Hyundai': 22,'Infiniti': 23,'Isuzu': 24,'Jaguar': 25,'Jeep': 26,'Lamborghini': 27,'Land': 28,'Lincoln': 29,'MINI': 30,'Maybach': 31,\n",
    "           'Mazda': 32,'McLaren': 33,'Mercedes-Benz': 34,'Mitsubishi': 35,'Nissan': 36,'Plymouth': 37,'Porsche': 38,'Ram': 39,'Rolls-Royce': 40,\n",
    "           'Scion': 41,'Spyker': 42,'Suzuki': 43,'Tesla': 44,'Toyota': 45,'Volkswagen': 46,'Volvo': 47,'smart': 48}"
   ]
  },
  {
   "cell_type": "code",
   "execution_count": 70,
   "metadata": {},
   "outputs": [
    {
     "data": {
      "text/plain": [
       "dict_keys(['AM', 'Acura', 'Aston', 'Audi', 'BMW', 'Bentley', 'Bugatti', 'Buick', 'Cadillac', 'Chevrolet', 'Chrysler', 'Daewoo', 'Dodge', 'Eagle', 'FIAT', 'Ferrari', 'Fisker', 'Ford', 'GMC', 'Geo', 'HUMMER', 'Honda', 'Hyundai', 'Infiniti', 'Isuzu', 'Jaguar', 'Jeep', 'Lamborghini', 'Land', 'Lincoln', 'MINI', 'Maybach', 'Mazda', 'McLaren', 'Mercedes-Benz', 'Mitsubishi', 'Nissan', 'Plymouth', 'Porsche', 'Ram', 'Rolls-Royce', 'Scion', 'Spyker', 'Suzuki', 'Tesla', 'Toyota', 'Volkswagen', 'Volvo', 'smart'])"
      ]
     },
     "execution_count": 70,
     "metadata": {},
     "output_type": "execute_result"
    }
   ],
   "source": [
    "label_map.keys()"
   ]
  },
  {
   "cell_type": "code",
   "execution_count": 43,
   "metadata": {},
   "outputs": [
    {
     "ename": "TypeError",
     "evalue": "unsupported operand type(s) for *: 'builtin_function_or_method' and 'int'",
     "output_type": "error",
     "traceback": [
      "\u001b[1;31m---------------------------------------------------------------------------\u001b[0m",
      "\u001b[1;31mTypeError\u001b[0m                                 Traceback (most recent call last)",
      "\u001b[1;32m<ipython-input-43-adb8a2ae8945>\u001b[0m in \u001b[0;36m<module>\u001b[1;34m\u001b[0m\n\u001b[1;32m----> 1\u001b[1;33m \u001b[0mre\u001b[0m\u001b[1;33m.\u001b[0m\u001b[0mvalues\u001b[0m\u001b[1;33m=\u001b[0m\u001b[0mre\u001b[0m\u001b[1;33m.\u001b[0m\u001b[0mvalues\u001b[0m\u001b[1;33m*\u001b[0m\u001b[1;36m100\u001b[0m\u001b[1;33m\u001b[0m\u001b[1;33m\u001b[0m\u001b[0m\n\u001b[0m",
      "\u001b[1;31mTypeError\u001b[0m: unsupported operand type(s) for *: 'builtin_function_or_method' and 'int'"
     ]
    }
   ],
   "source": [
    "re.values=re.values*100"
   ]
  },
  {
   "cell_type": "code",
   "execution_count": 51,
   "metadata": {},
   "outputs": [
    {
     "data": {
      "text/plain": [
       "{'BMW': 11.148095,\n",
       " 'Dodge': 7.9841433,\n",
       " 'Rolls-Royce': 2.4509401,\n",
       " 'Chevrolet': 1.1704624,\n",
       " 'Lamborghini': 0.6509483,\n",
       " 'Chrysler': 0.31238794,\n",
       " 'Audi': 0.26907027,\n",
       " 'Spyker': 0.11559129,\n",
       " 'Hyundai': 0.10795295,\n",
       " 'Bentley': 0.064989924,\n",
       " 'Toyota': 0.05506575,\n",
       " 'Land': 0.04452169,\n",
       " 'Bugatti': 0.02411902,\n",
       " 'Aston': 0.018638372,\n",
       " 'Volvo': 0.014382601,\n",
       " 'Ferrari': 0.013893843,\n",
       " 'GMC': 0.013434887,\n",
       " 'Cadillac': 0.010470509,\n",
       " 'Geo': 0.007643421,\n",
       " 'Isuzu': 0.006430454,\n",
       " 'Jaguar': 0.005691598,\n",
       " 'Buick': 0.004275688,\n",
       " 'Nissan': 0.0041330955,\n",
       " 'Jeep': 0.0038143243,\n",
       " 'Volkswagen': 0.0025961942,\n",
       " 'Daewoo': 0.0025469263,\n",
       " 'Mercedes-Benz': 0.0024367643,\n",
       " 'Ford': 0.0014285708,\n",
       " 'AM': 0.0014042651,\n",
       " 'Ram': 0.0014023125,\n",
       " 'McLaren': 0.0008783326,\n",
       " 'HUMMER': 0.0008293916,\n",
       " 'Eagle': 0.0008281854,\n",
       " 'Suzuki': 0.00082533126,\n",
       " 'Infiniti': 0.0007359812,\n",
       " 'smart': 0.00061686133,\n",
       " 'Mitsubishi': 0.00060723233,\n",
       " 'FIAT': 0.0005873644,\n",
       " 'Porsche': 0.0004311054,\n",
       " 'Tesla': 0.0003446091,\n",
       " 'Maybach': 0.0003266137,\n",
       " 'Fisker': 0.0002903965,\n",
       " 'Acura': 0.00028839256,\n",
       " 'Lincoln': 0.00013799734,\n",
       " 'Scion': 0.000116409945,\n",
       " 'Honda': 0.00010350033,\n",
       " 'Mazda': 6.254409e-05,\n",
       " 'Plymouth': 2.5152762e-05,\n",
       " 'MINI': 5.6811177e-06}"
      ]
     },
     "execution_count": 51,
     "metadata": {},
     "output_type": "execute_result"
    }
   ],
   "source": [
    "dict(sorted(re.items(),key=lambda x: x[1],reverse=True))"
   ]
  },
  {
   "cell_type": "code",
   "execution_count": 59,
   "metadata": {},
   "outputs": [],
   "source": [
    "def re(pred):\n",
    "    \n",
    "    result={}\n",
    "    t=0\n",
    "    for i in label_map:\n",
    "        re[i]=pred[0][t]\n",
    "        t=t+1\n",
    "    d=dict(sorted(re.items(),key=lambda x: x[1],reverse=True))\n",
    "#     d[:6]\n",
    "    return d[:6] "
   ]
  },
  {
   "cell_type": "code",
   "execution_count": 58,
   "metadata": {},
   "outputs": [],
   "source": [
    "pred2=model.predict(imageProcessing('la.jpg'))"
   ]
  },
  {
   "cell_type": "code",
   "execution_count": 61,
   "metadata": {
    "collapsed": true,
    "jupyter": {
     "outputs_hidden": true
    }
   },
   "outputs": [
    {
     "name": "stdout",
     "output_type": "stream",
     "text": [
      "\tAM ==> 0.000453\n",
      "\tAcura ==> 0.004364\n",
      "\tAston ==> 0.000166\n",
      "\tAudi ==> 0.000953\n",
      "\tBMW ==> 0.084008\n",
      "\tBentley ==> 0.000104\n",
      "\tBugatti ==> 0.000020\n",
      "\tBuick ==> 0.000115\n",
      "\tCadillac ==> 0.000441\n",
      "\tChevrolet ==> 0.189512\n",
      "\tChrysler ==> 0.000297\n",
      "\tDaewoo ==> 0.000048\n",
      "\tDodge ==> 0.002983\n",
      "\tEagle ==> 0.001471\n",
      "\tFIAT ==> 0.000079\n",
      "\tFerrari ==> 0.002553\n",
      "\tFisker ==> 0.000015\n",
      "\tFord ==> 0.002042\n",
      "\tGMC ==> 0.000062\n",
      "\tGeo ==> 0.000296\n",
      "\tHUMMER ==> 0.000053\n",
      "\tHonda ==> 0.000001\n",
      "\tHyundai ==> 0.000078\n",
      "\tInfiniti ==> 0.000236\n",
      "\tIsuzu ==> 0.000009\n",
      "\tJaguar ==> 0.000006\n",
      "\tJeep ==> 0.000073\n",
      "\tLamborghini ==> 0.114165\n",
      "\tLand ==> 0.000374\n",
      "\tLincoln ==> 0.000002\n",
      "\tMINI ==> 0.000004\n",
      "\tMaybach ==> 0.000007\n",
      "\tMazda ==> 0.000012\n",
      "\tMcLaren ==> 0.000960\n",
      "\tMercedes-Benz ==> 0.003210\n",
      "\tMitsubishi ==> 0.000011\n",
      "\tNissan ==> 0.000018\n",
      "\tPlymouth ==> 0.000006\n",
      "\tPorsche ==> 0.000018\n",
      "\tRam ==> 0.000127\n",
      "\tRolls-Royce ==> 0.000011\n",
      "\tScion ==> 0.000002\n",
      "\tSpyker ==> 0.000048\n",
      "\tSuzuki ==> 0.000602\n",
      "\tTesla ==> 0.000003\n",
      "\tToyota ==> 0.000194\n",
      "\tVolkswagen ==> 0.000036\n",
      "\tVolvo ==> 0.009394\n",
      "\tsmart ==> 0.000013\n"
     ]
    }
   ],
   "source": [
    "t=0\n",
    "re={}\n",
    "for i in label_map:\n",
    "    \n",
    "    print(\"\\t%s ==> %f\" % (i, pred2[0][t]))\n",
    "    re[i]=pred2[0][t]\n",
    "    t=t+1"
   ]
  },
  {
   "cell_type": "code",
   "execution_count": 62,
   "metadata": {},
   "outputs": [],
   "source": [
    "d=dict(sorted(re.items(),key=lambda x: x[1],reverse=True))"
   ]
  },
  {
   "cell_type": "code",
   "execution_count": 68,
   "metadata": {},
   "outputs": [
    {
     "name": "stdout",
     "output_type": "stream",
     "text": [
      "Chevrolet 0.18951166\n"
     ]
    }
   ],
   "source": [
    "maxx=max(d, key=d.get)\n",
    "print(maxx,d[maxx])"
   ]
  },
  {
   "cell_type": "code",
   "execution_count": 78,
   "metadata": {},
   "outputs": [],
   "source": [
    "a=\"'AM', 'Acura', 'Aston', 'Audi', 'BMW', 'Bentley', 'Bugatti', 'Buick', 'Cadillac', 'Chevrolet', 'Chrysler', 'Daewoo', 'Dodge', 'Eagle', 'FIAT', 'Ferrari', 'Fisker', 'Ford', 'GMC', 'Geo', 'HUMMER', 'Honda', 'Hyundai', 'Infiniti', 'Isuzu', 'Jaguar', 'Jeep', 'Lamborghini', 'Land', 'Lincoln', 'MINI', 'Maybach', 'Mazda', 'McLaren', 'Mercedes-Benz', 'Mitsubishi', 'Nissan', 'Plymouth', 'Porsche', 'Ram', 'Rolls-Royce', 'Scion', 'Spyker', 'Suzuki', 'Tesla', 'Toyota', 'Volkswagen', 'Volvo', 'smart'\""
   ]
  },
  {
   "cell_type": "code",
   "execution_count": 79,
   "metadata": {},
   "outputs": [],
   "source": [
    "a=a.replace(\"'\",\"\")"
   ]
  },
  {
   "cell_type": "code",
   "execution_count": 80,
   "metadata": {},
   "outputs": [],
   "source": [
    "a=a.replace(\",\",\"\")"
   ]
  },
  {
   "cell_type": "code",
   "execution_count": 81,
   "metadata": {},
   "outputs": [
    {
     "data": {
      "text/plain": [
       "'AM Acura Aston Audi BMW Bentley Bugatti Buick Cadillac Chevrolet Chrysler Daewoo Dodge Eagle FIAT Ferrari Fisker Ford GMC Geo HUMMER Honda Hyundai Infiniti Isuzu Jaguar Jeep Lamborghini Land Lincoln MINI Maybach Mazda McLaren Mercedes-Benz Mitsubishi Nissan Plymouth Porsche Ram Rolls-Royce Scion Spyker Suzuki Tesla Toyota Volkswagen Volvo smart'"
      ]
     },
     "execution_count": 81,
     "metadata": {},
     "output_type": "execute_result"
    }
   ],
   "source": [
    "a"
   ]
  },
  {
   "cell_type": "code",
   "execution_count": 82,
   "metadata": {},
   "outputs": [],
   "source": [
    "a=a.replace(\" \",\"\\\\n\")"
   ]
  },
  {
   "cell_type": "code",
   "execution_count": 83,
   "metadata": {},
   "outputs": [
    {
     "data": {
      "text/plain": [
       "'AM\\\\nAcura\\\\nAston\\\\nAudi\\\\nBMW\\\\nBentley\\\\nBugatti\\\\nBuick\\\\nCadillac\\\\nChevrolet\\\\nChrysler\\\\nDaewoo\\\\nDodge\\\\nEagle\\\\nFIAT\\\\nFerrari\\\\nFisker\\\\nFord\\\\nGMC\\\\nGeo\\\\nHUMMER\\\\nHonda\\\\nHyundai\\\\nInfiniti\\\\nIsuzu\\\\nJaguar\\\\nJeep\\\\nLamborghini\\\\nLand\\\\nLincoln\\\\nMINI\\\\nMaybach\\\\nMazda\\\\nMcLaren\\\\nMercedes-Benz\\\\nMitsubishi\\\\nNissan\\\\nPlymouth\\\\nPorsche\\\\nRam\\\\nRolls-Royce\\\\nScion\\\\nSpyker\\\\nSuzuki\\\\nTesla\\\\nToyota\\\\nVolkswagen\\\\nVolvo\\\\nsmart'"
      ]
     },
     "execution_count": 83,
     "metadata": {},
     "output_type": "execute_result"
    }
   ],
   "source": [
    "a"
   ]
  },
  {
   "cell_type": "code",
   "execution_count": null,
   "metadata": {},
   "outputs": [],
   "source": []
  }
 ],
 "metadata": {
  "kernelspec": {
   "display_name": "Python 3",
   "language": "python",
   "name": "python3"
  },
  "language_info": {
   "codemirror_mode": {
    "name": "ipython",
    "version": 3
   },
   "file_extension": ".py",
   "mimetype": "text/x-python",
   "name": "python",
   "nbconvert_exporter": "python",
   "pygments_lexer": "ipython3",
   "version": "3.8.3"
  }
 },
 "nbformat": 4,
 "nbformat_minor": 4
}
